{
 "cells": [
  {
   "cell_type": "markdown",
   "metadata": {},
   "source": [
    "# SCRI Notebook Test"
   ]
  },
  {
   "cell_type": "markdown",
   "metadata": {
    "colab_type": "text",
    "id": "7AL08Bo7Ei8n"
   },
   "source": [
    "## Install Scanpy"
   ]
  },
  {
   "cell_type": "code",
   "execution_count": 1,
   "metadata": {
    "ExecuteTime": {
     "end_time": "2020-02-06T16:58:35.731322Z",
     "start_time": "2020-02-06T16:58:35.728194Z"
    }
   },
   "outputs": [],
   "source": [
    "# for fresh Mac\n",
    "# conda install freetype\n",
    "# conda install libpng\n",
    "# conda install matplotlib\n",
    "\n",
    "# brew install wget"
   ]
  },
  {
   "cell_type": "code",
   "execution_count": 2,
   "metadata": {
    "ExecuteTime": {
     "end_time": "2020-02-06T16:58:36.910472Z",
     "start_time": "2020-02-06T16:58:35.922412Z"
    },
    "colab": {
     "base_uri": "https://localhost:8080/",
     "height": 615
    },
    "colab_type": "code",
    "id": "TMdl1duN6DS5",
    "outputId": "9e3ae088-1351-4237-d7b4-40742321d4ae"
   },
   "outputs": [
    {
     "name": "stdout",
     "output_type": "stream",
     "text": [
      "Requirement already satisfied: scanpy in /Users/peerlabloaner2/opt/miniconda3/envs/dev/lib/python3.8/site-packages (1.4.5.post3)\n",
      "Requirement already satisfied: scikit-learn>=0.21.2 in /Users/peerlabloaner2/opt/miniconda3/envs/dev/lib/python3.8/site-packages (from scanpy) (0.22.1)\n",
      "Requirement already satisfied: seaborn in /Users/peerlabloaner2/opt/miniconda3/envs/dev/lib/python3.8/site-packages (from scanpy) (0.10.0)\n",
      "Requirement already satisfied: networkx in /Users/peerlabloaner2/opt/miniconda3/envs/dev/lib/python3.8/site-packages (from scanpy) (2.4)\n",
      "Requirement already satisfied: numba>=0.41.0 in /Users/peerlabloaner2/opt/miniconda3/envs/dev/lib/python3.8/site-packages (from scanpy) (0.48.0)\n",
      "Requirement already satisfied: packaging in /Users/peerlabloaner2/opt/miniconda3/envs/dev/lib/python3.8/site-packages (from scanpy) (20.1)\n",
      "Requirement already satisfied: legacy-api-wrap in /Users/peerlabloaner2/opt/miniconda3/envs/dev/lib/python3.8/site-packages (from scanpy) (1.2)\n",
      "Requirement already satisfied: joblib in /Users/peerlabloaner2/opt/miniconda3/envs/dev/lib/python3.8/site-packages (from scanpy) (0.14.1)\n",
      "Requirement already satisfied: scipy>=1.3 in /Users/peerlabloaner2/opt/miniconda3/envs/dev/lib/python3.8/site-packages (from scanpy) (1.4.1)\n",
      "Requirement already satisfied: setuptools-scm in /Users/peerlabloaner2/opt/miniconda3/envs/dev/lib/python3.8/site-packages (from scanpy) (3.4.3)\n",
      "Requirement already satisfied: umap-learn>=0.3.10 in /Users/peerlabloaner2/opt/miniconda3/envs/dev/lib/python3.8/site-packages (from scanpy) (0.3.10)\n",
      "Requirement already satisfied: statsmodels>=0.10.0rc2 in /Users/peerlabloaner2/opt/miniconda3/envs/dev/lib/python3.8/site-packages (from scanpy) (0.11.0)\n",
      "Requirement already satisfied: matplotlib==3.0.* in /Users/peerlabloaner2/opt/miniconda3/envs/dev/lib/python3.8/site-packages (from scanpy) (3.0.3)\n",
      "Requirement already satisfied: h5py>=2.10.0 in /Users/peerlabloaner2/opt/miniconda3/envs/dev/lib/python3.8/site-packages (from scanpy) (2.10.0)\n",
      "Requirement already satisfied: tqdm in /Users/peerlabloaner2/opt/miniconda3/envs/dev/lib/python3.8/site-packages (from scanpy) (4.42.1)\n",
      "Requirement already satisfied: pandas>=0.21 in /Users/peerlabloaner2/opt/miniconda3/envs/dev/lib/python3.8/site-packages (from scanpy) (1.0.0)\n",
      "Requirement already satisfied: anndata>=0.6.22.post1 in /Users/peerlabloaner2/opt/miniconda3/envs/dev/lib/python3.8/site-packages (from scanpy) (0.7.1)\n",
      "Requirement already satisfied: patsy in /Users/peerlabloaner2/opt/miniconda3/envs/dev/lib/python3.8/site-packages (from scanpy) (0.5.1)\n",
      "Requirement already satisfied: tables in /Users/peerlabloaner2/opt/miniconda3/envs/dev/lib/python3.8/site-packages (from scanpy) (3.6.1)\n",
      "Requirement already satisfied: natsort in /Users/peerlabloaner2/opt/miniconda3/envs/dev/lib/python3.8/site-packages (from scanpy) (7.0.1)\n",
      "Requirement already satisfied: numpy>=1.11.0 in /Users/peerlabloaner2/opt/miniconda3/envs/dev/lib/python3.8/site-packages (from scikit-learn>=0.21.2->scanpy) (1.18.1)\n",
      "Requirement already satisfied: decorator>=4.3.0 in /Users/peerlabloaner2/opt/miniconda3/envs/dev/lib/python3.8/site-packages (from networkx->scanpy) (4.4.1)\n",
      "Requirement already satisfied: llvmlite<0.32.0,>=0.31.0dev0 in /Users/peerlabloaner2/opt/miniconda3/envs/dev/lib/python3.8/site-packages (from numba>=0.41.0->scanpy) (0.31.0)\n",
      "Requirement already satisfied: setuptools in /Users/peerlabloaner2/opt/miniconda3/envs/dev/lib/python3.8/site-packages (from numba>=0.41.0->scanpy) (45.1.0.post20200127)\n",
      "Requirement already satisfied: six in /Users/peerlabloaner2/opt/miniconda3/envs/dev/lib/python3.8/site-packages (from packaging->scanpy) (1.14.0)\n",
      "Requirement already satisfied: pyparsing>=2.0.2 in /Users/peerlabloaner2/opt/miniconda3/envs/dev/lib/python3.8/site-packages (from packaging->scanpy) (2.4.6)\n",
      "Requirement already satisfied: get-version>=2.0.4 in /Users/peerlabloaner2/opt/miniconda3/envs/dev/lib/python3.8/site-packages (from legacy-api-wrap->scanpy) (2.1)\n",
      "Requirement already satisfied: kiwisolver>=1.0.1 in /Users/peerlabloaner2/opt/miniconda3/envs/dev/lib/python3.8/site-packages (from matplotlib==3.0.*->scanpy) (1.0.1)\n",
      "Requirement already satisfied: python-dateutil>=2.1 in /Users/peerlabloaner2/opt/miniconda3/envs/dev/lib/python3.8/site-packages (from matplotlib==3.0.*->scanpy) (2.8.1)\n",
      "Requirement already satisfied: cycler>=0.10 in /Users/peerlabloaner2/opt/miniconda3/envs/dev/lib/python3.8/site-packages (from matplotlib==3.0.*->scanpy) (0.10.0)\n",
      "Requirement already satisfied: pytz>=2017.2 in /Users/peerlabloaner2/opt/miniconda3/envs/dev/lib/python3.8/site-packages (from pandas>=0.21->scanpy) (2019.3)\n",
      "Requirement already satisfied: numexpr>=2.6.2 in /Users/peerlabloaner2/opt/miniconda3/envs/dev/lib/python3.8/site-packages (from tables->scanpy) (2.7.1)\n"
     ]
    }
   ],
   "source": [
    "!pip install scanpy"
   ]
  },
  {
   "cell_type": "code",
   "execution_count": 3,
   "metadata": {
    "ExecuteTime": {
     "end_time": "2020-02-06T16:58:41.636383Z",
     "start_time": "2020-02-06T16:58:39.670549Z"
    },
    "colab": {},
    "colab_type": "code",
    "id": "Db9-it3l6BRt"
   },
   "outputs": [
    {
     "name": "stderr",
     "output_type": "stream",
     "text": [
      "/Users/peerlabloaner2/opt/miniconda3/envs/dev/lib/python3.8/site-packages/anndata/_core/anndata.py:21: FutureWarning: pandas.core.index is deprecated and will be removed in a future version.  The public classes are available in the top-level namespace.\n",
      "  from pandas.core.index import RangeIndex\n"
     ]
    }
   ],
   "source": [
    "import pandas as pd\n",
    "import numpy as np\n",
    "import scanpy as sc"
   ]
  },
  {
   "cell_type": "markdown",
   "metadata": {
    "colab_type": "text",
    "id": "AV4Tb1sGErVj"
   },
   "source": [
    "## Load Data"
   ]
  },
  {
   "cell_type": "code",
   "execution_count": 4,
   "metadata": {
    "ExecuteTime": {
     "end_time": "2020-02-06T16:58:45.246059Z",
     "start_time": "2020-02-06T16:58:42.665143Z"
    },
    "colab": {
     "base_uri": "https://localhost:8080/",
     "height": 204
    },
    "colab_type": "code",
    "id": "pQ_pCHf76F3G",
    "outputId": "6048e846-130a-46f1-f0d1-c7d3ba94cff9"
   },
   "outputs": [
    {
     "name": "stdout",
     "output_type": "stream",
     "text": [
      "--2020-02-06 11:58:42--  http://cf.10xgenomics.com/samples/cell-exp/1.1.0/pbmc3k/pbmc3k_filtered_gene_bc_matrices.tar.gz\n",
      "Resolving cf.10xgenomics.com (cf.10xgenomics.com)... 13.225.224.10, 13.225.224.88, 13.225.224.54, ...\n",
      "Connecting to cf.10xgenomics.com (cf.10xgenomics.com)|13.225.224.10|:80... connected.\n",
      "HTTP request sent, awaiting response... 200 OK\n",
      "Length: 7621991 (7.3M) [application/x-tar]\n",
      "Saving to: ‘data/pbmc3k_filtered_gene_bc_matrices.tar.gz’\n",
      "\n",
      "data/pbmc3k_filtere 100%[===================>]   7.27M  4.52MB/s    in 1.6s    \n",
      "\n",
      "2020-02-06 11:58:44 (4.52 MB/s) - ‘data/pbmc3k_filtered_gene_bc_matrices.tar.gz’ saved [7621991/7621991]\n",
      "\n"
     ]
    }
   ],
   "source": [
    "!mkdir -p data\n",
    "!wget http://cf.10xgenomics.com/samples/cell-exp/1.1.0/pbmc3k/pbmc3k_filtered_gene_bc_matrices.tar.gz -O data/pbmc3k_filtered_gene_bc_matrices.tar.gz\n",
    "!cd data; tar -xzf pbmc3k_filtered_gene_bc_matrices.tar.gz"
   ]
  },
  {
   "cell_type": "code",
   "execution_count": 5,
   "metadata": {
    "ExecuteTime": {
     "end_time": "2020-02-06T16:58:46.335644Z",
     "start_time": "2020-02-06T16:58:46.204506Z"
    },
    "colab": {
     "base_uri": "https://localhost:8080/",
     "height": 34
    },
    "colab_type": "code",
    "id": "0LHGMh2wETui",
    "outputId": "b259c35f-c741-431b-fc3f-14574676dcdd"
   },
   "outputs": [
    {
     "name": "stdout",
     "output_type": "stream",
     "text": [
      "\u001b[34mfiltered_gene_bc_matrices\u001b[m\u001b[m               pbmc3k_filtered_gene_bc_matrices.tar.gz\r\n"
     ]
    }
   ],
   "source": [
    "!ls data"
   ]
  },
  {
   "cell_type": "code",
   "execution_count": 6,
   "metadata": {
    "ExecuteTime": {
     "end_time": "2020-02-06T16:58:46.986229Z",
     "start_time": "2020-02-06T16:58:46.744284Z"
    },
    "colab": {},
    "colab_type": "code",
    "id": "OeGnX_qfEWaS"
   },
   "outputs": [],
   "source": [
    "adata = sc.read_10x_mtx(\n",
    "  './data/filtered_gene_bc_matrices/hg19/',  # the directory with the `.mtx` file\n",
    "  var_names='gene_symbols',                  # use gene symbols for the variable names (variables-axis index)\n",
    "  cache=True\n",
    ")    "
   ]
  },
  {
   "cell_type": "code",
   "execution_count": 7,
   "metadata": {
    "ExecuteTime": {
     "end_time": "2020-02-06T16:58:47.282771Z",
     "start_time": "2020-02-06T16:58:47.274133Z"
    },
    "colab": {
     "base_uri": "https://localhost:8080/",
     "height": 51
    },
    "colab_type": "code",
    "id": "9iu0Q_BxE2rm",
    "outputId": "1793eefb-1bb6-4b91-a200-1242c1bd1fd1"
   },
   "outputs": [
    {
     "data": {
      "text/plain": [
       "AnnData object with n_obs × n_vars = 2700 × 32738 \n",
       "    var: 'gene_ids'"
      ]
     },
     "execution_count": 7,
     "metadata": {},
     "output_type": "execute_result"
    }
   ],
   "source": [
    "adata"
   ]
  },
  {
   "cell_type": "markdown",
   "metadata": {
    "colab_type": "text",
    "id": "F6W0C1HEFl9H"
   },
   "source": [
    "## Plotting"
   ]
  },
  {
   "cell_type": "code",
   "execution_count": 8,
   "metadata": {
    "ExecuteTime": {
     "end_time": "2020-02-06T16:58:51.325878Z",
     "start_time": "2020-02-06T16:58:50.786072Z"
    },
    "colab": {
     "base_uri": "https://localhost:8080/",
     "height": 364
    },
    "colab_type": "code",
    "id": "hOwnXrbsE4dl",
    "outputId": "3d947f5d-e788-43bf-a5ed-aec75932dd99"
   },
   "outputs": [
    {
     "data": {
      "image/png": "[encoded data removed]",
      "text/plain": [
       "<Figure size 360x396 with 1 Axes>"
      ]
     },
     "metadata": {
      "needs_background": "light"
     },
     "output_type": "display_data"
    }
   ],
   "source": [
    "sc.pl.highest_expr_genes(adata, n_top=20, )"
   ]
  },
  {
   "cell_type": "code",
   "execution_count": 0,
   "metadata": {
    "colab": {},
    "colab_type": "code",
    "id": "AiqoidkvE_Ur"
   },
   "outputs": [],
   "source": []
  }
 ],
 "metadata": {
  "colab": {
   "name": "scanpy-test.ipynb",
   "provenance": [],
   "toc_visible": true
  },
  "kernelspec": {
   "display_name": "Python 3",
   "language": "python",
   "name": "python3"
  },
  "language_info": {
   "codemirror_mode": {
    "name": "ipython",
    "version": 3
   },
   "file_extension": ".py",
   "mimetype": "text/x-python",
   "name": "python",
   "nbconvert_exporter": "python",
   "pygments_lexer": "ipython3",
   "version": "3.8.1"
  },
  "toc": {
   "base_numbering": 1,
   "nav_menu": {},
   "number_sections": true,
   "sideBar": true,
   "skip_h1_title": false,
   "title_cell": "Table of Contents",
   "title_sidebar": "Contents",
   "toc_cell": false,
   "toc_position": {},
   "toc_section_display": true,
   "toc_window_display": true
  }
 },
 "nbformat": 4,
 "nbformat_minor": 1
}
